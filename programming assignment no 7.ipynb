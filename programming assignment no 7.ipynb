{
 "cells": [
  {
   "cell_type": "code",
   "execution_count": 3,
   "metadata": {},
   "outputs": [
    {
     "name": "stdout",
     "output_type": "stream",
     "text": [
      "enter the no of element4\n",
      "22\n",
      "32\n",
      "21\n",
      "21\n",
      "the sum of array 96\n"
     ]
    }
   ],
   "source": [
    "#Write a Python Program to find sum of array?\n",
    "def _sumarr():\n",
    "    sum=0\n",
    "    for i in arr:\n",
    "        sum=sum+i\n",
    "    return (sum)\n",
    "arr=[]\n",
    "n=int(input(\"enter the no of element\"))\n",
    "for i in range(0,n):\n",
    "    ele=int(input())\n",
    "    arr.append(ele)\n",
    "m=len(arr)\n",
    "ans=_sumarr()\n",
    "print(\"the sum of array\",ans)"
   ]
  },
  {
   "cell_type": "markdown",
   "metadata": {},
   "source": []
  },
  {
   "cell_type": "markdown",
   "metadata": {},
   "source": []
  },
  {
   "cell_type": "code",
   "execution_count": 11,
   "metadata": {},
   "outputs": [
    {
     "name": "stdout",
     "output_type": "stream",
     "text": [
      "enter the no element>>4\n",
      "33\n",
      "32\n",
      "31\n",
      "30\n",
      "Largest element present in given array>> 33\n"
     ]
    }
   ],
   "source": [
    "# 2)Write a Python Program to find largest element in an array?\n",
    "arr=[]\n",
    "n=int(input(\"enter the no element>>\"))\n",
    "for i in range (0,n):\n",
    "    ele=int(input())\n",
    "    arr.append(ele)\n",
    "       \n",
    "max = arr[0];    \n",
    "     \n",
    "for i in range(0, len(arr)):      \n",
    "    if(arr[i] > max):\n",
    "        max = arr[i]   \n",
    "           \n",
    "print(\"Largest element present in given array>> \" + str(max))   \n",
    "    "
   ]
  },
  {
   "cell_type": "code",
   "execution_count": 1,
   "metadata": {},
   "outputs": [
    {
     "name": "stdout",
     "output_type": "stream",
     "text": [
      "enter the no element>>3\n",
      "1\n",
      "2\n",
      "3\n",
      "[1, 2, 3]\n",
      "Rotated list is\n",
      "[3, 1, 2]\n"
     ]
    }
   ],
   "source": [
    "#3)Write a Python Program for array rotation?\n",
    "\n",
    "def rotateList(arr,d,n):\n",
    "  arr[:]=arr[d:n]+arr[0:d]\n",
    "  return arr\n",
    "arr = []\n",
    "n=int(input(\"enter the no element>>\"))\n",
    "for i in range(0,n):\n",
    "    ele=int(input())\n",
    "    arr.append(ele)\n",
    "print(arr)\n",
    "print(\"Rotated list is\")\n",
    "print(rotateList(arr,2,len(arr))) "
   ]
  },
  {
   "cell_type": "code",
   "execution_count": 5,
   "metadata": {},
   "outputs": [
    {
     "name": "stdout",
     "output_type": "stream",
     "text": [
      "enter the no element>>4\n",
      "21\n",
      "[21]\n",
      "23\n",
      "[21, 23]\n",
      "34\n",
      "[21, 23, 34]\n",
      "12\n",
      "[21, 23, 34, 12]\n",
      "34 12 21 23 "
     ]
    }
   ],
   "source": [
    "#4)Write a Python Program to Split the array and add the first part to the end?\n",
    "\n",
    "\n",
    "def splitArr(arr, n, k): \n",
    "    for i in range(0, k): \n",
    "        x = arr[0]\n",
    "        for j in range(0, n-1):\n",
    "            arr[j] = arr[j + 1]\n",
    "         \n",
    "        arr[n-1] = x\n",
    "arr = []\n",
    "n=int(input(\"enter the no element>>\"))\n",
    "for i in range(0,n):\n",
    "    ele=int(input())\n",
    "    arr.append(ele)\n",
    "    print(arr)\n",
    "    n = len(arr)\n",
    "position = 2\n",
    " \n",
    "splitArr(arr, n, position)\n",
    " \n",
    "for i in range(0, n): \n",
    "    print(arr[i], end = ' ')\n",
    "        "
   ]
  },
  {
   "cell_type": "code",
   "execution_count": null,
   "metadata": {},
   "outputs": [],
   "source": []
  },
  {
   "cell_type": "code",
   "execution_count": 16,
   "metadata": {},
   "outputs": [
    {
     "name": "stdout",
     "output_type": "stream",
     "text": [
      "enter the no of element5\n",
      "1\n",
      "[1]\n",
      "2\n",
      "[1, 2]\n",
      "3\n",
      "[1, 2, 3]\n",
      "4\n",
      "[1, 2, 3, 4]\n",
      "5\n",
      "[1, 2, 3, 4, 5]\n",
      "True\n"
     ]
    }
   ],
   "source": [
    "#5)Write a Python Program to check if given array is Monotonic?\n",
    "def isMonotonic(A):\n",
    "  \n",
    "    return (all(A[i] <= A[i + 1] for i in range(len(A) - 1)) or\n",
    "            all(A[i] >= A[i + 1] for i in range(len(A) - 1)))\n",
    "  \n",
    "\n",
    "A = []\n",
    "n=int(input(\"enter the no of element\"))\n",
    "for i in range (0,n):\n",
    "    ele=int(input())\n",
    "    A.append(ele)\n",
    "    print(A)\n",
    "\n",
    "      \n",
    "print(isMonotonic(A))"
   ]
  },
  {
   "cell_type": "code",
   "execution_count": null,
   "metadata": {},
   "outputs": [],
   "source": []
  }
 ],
 "metadata": {
  "kernelspec": {
   "display_name": "Python 3",
   "language": "python",
   "name": "python3"
  },
  "language_info": {
   "codemirror_mode": {
    "name": "ipython",
    "version": 3
   },
   "file_extension": ".py",
   "mimetype": "text/x-python",
   "name": "python",
   "nbconvert_exporter": "python",
   "pygments_lexer": "ipython3",
   "version": "3.7.6"
  }
 },
 "nbformat": 4,
 "nbformat_minor": 4
}
