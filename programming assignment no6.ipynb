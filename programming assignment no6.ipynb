{
 "cells": [
  {
   "cell_type": "code",
   "execution_count": 7,
   "metadata": {},
   "outputs": [
    {
     "name": "stdout",
     "output_type": "stream",
     "text": [
      "Enter the positive integer>>10\n",
      "fibonacci sequence\n",
      "0\n",
      "1\n",
      "1\n",
      "2\n",
      "3\n",
      "5\n",
      "8\n",
      "13\n",
      "21\n",
      "34\n"
     ]
    }
   ],
   "source": [
    "#1. Write a Python Program to Display Fibonacci Sequence Using Recursion.\n",
    "\n",
    "def recu_fibo(n):\n",
    "    if n<=1:\n",
    "        return (n)\n",
    "    else:\n",
    "        return(recu_fibo(n-1)+recu_fibo(n-2))\n",
    "n=int(input(\"Enter the positive integer>>\"))\n",
    "if n<=0:\n",
    "    print(\"Enter positive integer\")\n",
    "else:\n",
    "    print(\"fibonacci sequence\")\n",
    "    for i in range(n):\n",
    "        print(recu_fibo(i))\n",
    "    \n",
    "    \n",
    "    "
   ]
  },
  {
   "cell_type": "code",
   "execution_count": 9,
   "metadata": {},
   "outputs": [
    {
     "name": "stdout",
     "output_type": "stream",
     "text": [
      "enter the positive intger>>5\n",
      "factorial of 5 is 120\n"
     ]
    }
   ],
   "source": [
    "#2)Write a Python Program to Find Factorial of Number Using Recursion?\n",
    "\n",
    "def recu_factorial(n):\n",
    "    if n==1:\n",
    "        return n\n",
    "    else:\n",
    "        return n*recu_factorial(n-1)\n",
    "    \n",
    "n=int(input(\"enter the positive intger>>\"))\n",
    "if n<0:\n",
    "    print(\"Enter the positive integer\")\n",
    "elif n==0:\n",
    "    print(\"facorial of 0 is 1\")\n",
    "else:\n",
    "    print(\"factorial of\",n, \"is\",recu_factorial(n))\n",
    "    "
   ]
  },
  {
   "cell_type": "code",
   "execution_count": null,
   "metadata": {},
   "outputs": [],
   "source": []
  },
  {
   "cell_type": "code",
   "execution_count": 2,
   "metadata": {},
   "outputs": [
    {
     "name": "stdout",
     "output_type": "stream",
     "text": [
      "enter the weight kg>>58\n",
      "Enter the height in meter>>1.68\n",
      "body mass index 20.55\n"
     ]
    }
   ],
   "source": [
    "#3)Write a Python Program to calculate your Body Mass Index?\n",
    "\n",
    "w=float(input(\"enter the weight kg>>\"))\n",
    "h=float(input(\"Enter the height in meter>>\"))\n",
    "print(\"body mass index\",round(w/(h**2),2))"
   ]
  },
  {
   "cell_type": "code",
   "execution_count": null,
   "metadata": {},
   "outputs": [],
   "source": []
  },
  {
   "cell_type": "code",
   "execution_count": 10,
   "metadata": {},
   "outputs": [
    {
     "name": "stdout",
     "output_type": "stream",
     "text": [
      "enter number>> 100\n",
      "4.605170185988092\n"
     ]
    }
   ],
   "source": [
    "#4)Write a Python Program to calculate the natural logarithm of any number?\n",
    "import math\n",
    "x=float(input(\"enter number>> \"))\n",
    "print(math.log(x))"
   ]
  },
  {
   "cell_type": "code",
   "execution_count": 13,
   "metadata": {},
   "outputs": [
    {
     "name": "stdout",
     "output_type": "stream",
     "text": [
      "Enter the value>>2\n",
      "9.0\n"
     ]
    }
   ],
   "source": [
    "#5)Write a Python Program for cube sum of first n natural numbers?\n",
    "\n",
    "def sumation(n):\n",
    "    x=(n*(n+1)/2)\n",
    "    return (x*x)\n",
    "n=int(input(\"Enter the value>>\"))\n",
    "print(sumation(n))\n",
    "    "
   ]
  },
  {
   "cell_type": "code",
   "execution_count": null,
   "metadata": {},
   "outputs": [],
   "source": []
  }
 ],
 "metadata": {
  "kernelspec": {
   "display_name": "Python 3",
   "language": "python",
   "name": "python3"
  },
  "language_info": {
   "codemirror_mode": {
    "name": "ipython",
    "version": 3
   },
   "file_extension": ".py",
   "mimetype": "text/x-python",
   "name": "python",
   "nbconvert_exporter": "python",
   "pygments_lexer": "ipython3",
   "version": "3.7.6"
  }
 },
 "nbformat": 4,
 "nbformat_minor": 4
}
