{
 "cells": [
  {
   "cell_type": "code",
   "execution_count": 18,
   "metadata": {},
   "outputs": [
    {
     "name": "stdout",
     "output_type": "stream",
     "text": [
      "enter the no of elements>>4\n",
      "1\n",
      "2\n",
      "3\n",
      "4\n",
      "list>> [1, 2, 3, 4]\n",
      "The sum of elements in list is: 10\n"
     ]
    }
   ],
   "source": [
    "#1) Write a Python program to find sum of elements in list?\n",
    "x=0\n",
    "l=[]\n",
    "n=int(input(\"enter the no of elements>>\"))\n",
    "for i in range(0,n):\n",
    "    y=int(input())\n",
    "    l.append(y)\n",
    "for i in range (0,len(l)):\n",
    "    x=x+l[i]\n",
    "print(\"list>>\",l)\n",
    "print(\"The sum of elements in list is:\",x)"
   ]
  },
  {
   "cell_type": "code",
   "execution_count": null,
   "metadata": {},
   "outputs": [],
   "source": []
  },
  {
   "cell_type": "code",
   "execution_count": 8,
   "metadata": {},
   "outputs": [],
   "source": [
    "#2)Write a Python program to Multiply all numbers in the list?\n",
    "def multiplyList(myList) :\n",
    "     \n",
    "    result = 1\n",
    "    for x in myList:\n",
    "         result = result * x\n",
    "    return result"
   ]
  },
  {
   "cell_type": "code",
   "execution_count": 15,
   "metadata": {},
   "outputs": [
    {
     "name": "stdout",
     "output_type": "stream",
     "text": [
      "6\n"
     ]
    }
   ],
   "source": [
    "list=[1,2,3]\n",
    "print(multiplyList(list))"
   ]
  },
  {
   "cell_type": "code",
   "execution_count": null,
   "metadata": {},
   "outputs": [],
   "source": []
  },
  {
   "cell_type": "code",
   "execution_count": 17,
   "metadata": {},
   "outputs": [
    {
     "name": "stdout",
     "output_type": "stream",
     "text": [
      "enter the no of elements>>4\n",
      "21\n",
      "33\n",
      "12\n",
      "22\n",
      "smallest number is>> 12\n"
     ]
    }
   ],
   "source": [
    "# 3. Write a Python program to find smallest number in a list?\n",
    "l=[]\n",
    "n=int(input(\"enter the no of elements>>\"))\n",
    "for i in range(0,n):\n",
    "    y=int(input())\n",
    "    l.append(y)\n",
    "print(\"smallest number is>>\",min(l))"
   ]
  },
  {
   "cell_type": "code",
   "execution_count": null,
   "metadata": {},
   "outputs": [],
   "source": []
  },
  {
   "cell_type": "code",
   "execution_count": 19,
   "metadata": {},
   "outputs": [
    {
     "name": "stdout",
     "output_type": "stream",
     "text": [
      "enter the no of elements>>4\n",
      "33\n",
      "45\n",
      "66\n",
      "77\n",
      "Largest number is>> 77\n"
     ]
    }
   ],
   "source": [
    "# 4. Write a Python program to find largest number in a list?\n",
    "l=[]\n",
    "n=int(input(\"enter the no of elements>>\"))\n",
    "for i in range(0,n):\n",
    "    y=int(input())\n",
    "    l.append(y)\n",
    "print(\"Largest number is>>\",max(l))"
   ]
  },
  {
   "cell_type": "code",
   "execution_count": null,
   "metadata": {},
   "outputs": [],
   "source": []
  },
  {
   "cell_type": "code",
   "execution_count": 3,
   "metadata": {},
   "outputs": [
    {
     "name": "stdout",
     "output_type": "stream",
     "text": [
      "enter the no of elements>>5\n",
      "21\n",
      "12\n",
      "32\n",
      "11\n",
      "9\n",
      "[9, 11, 12, 21, 32]\n",
      "Second largest number is>> 21\n"
     ]
    }
   ],
   "source": [
    "# 5. Write a Python program to find second largest number in a list?\n",
    "l=[]\n",
    "n=int(input(\"enter the no of elements>>\"))\n",
    "for i in range(0,n):\n",
    "    y=int(input())\n",
    "    l.append(y)\n",
    "l.sort()\n",
    "print(l)\n",
    "print(\"Second largest number is>>\",l[-2])"
   ]
  },
  {
   "cell_type": "code",
   "execution_count": null,
   "metadata": {},
   "outputs": [],
   "source": []
  },
  {
   "cell_type": "code",
   "execution_count": 5,
   "metadata": {},
   "outputs": [
    {
     "name": "stdout",
     "output_type": "stream",
     "text": [
      "enter the no of elements>>7\n",
      "12\n",
      "14\n",
      "34\n",
      "25\n",
      "38\n",
      "33\n",
      "67\n",
      "Enter the largest number required>>3\n",
      "[12, 14, 25, 33, 34, 38, 67]\n",
      "[34, 38, 67]\n"
     ]
    }
   ],
   "source": [
    "#6)  Write a Python program to find N largest elements from a list?\n",
    "l=[]\n",
    "n=int(input(\"enter the no of elements>>\"))\n",
    "for i in range(0,n):\n",
    "    y=int(input())\n",
    "    l.append(y)\n",
    "N=int(input(\"Enter the largest number required>>\"))\n",
    "l.sort()\n",
    "print(l)\n",
    "print(l[-N:])"
   ]
  },
  {
   "cell_type": "code",
   "execution_count": null,
   "metadata": {},
   "outputs": [],
   "source": []
  },
  {
   "cell_type": "code",
   "execution_count": 28,
   "metadata": {},
   "outputs": [
    {
     "name": "stdout",
     "output_type": "stream",
     "text": [
      "enter the no of elements>>5\n",
      "1\n",
      "2\n",
      "3\n",
      "4\n",
      "5\n",
      "2 4 "
     ]
    }
   ],
   "source": [
    "#7)Write a Python program to print even numbers in a list?\n",
    "l=[]\n",
    "n=int(input(\"enter the no of elements>>\"))\n",
    "for i in range(0,n):\n",
    "    y=int(input())\n",
    "    l.append(y)\n",
    "\n",
    "    \n",
    "for num in l:\n",
    "     \n",
    "    if num % 2 == 0:\n",
    "        \n",
    "        print(num, end = \" \")"
   ]
  },
  {
   "cell_type": "code",
   "execution_count": 29,
   "metadata": {},
   "outputs": [
    {
     "name": "stdout",
     "output_type": "stream",
     "text": [
      "enter the no of elements>>5\n",
      "32\n",
      "33\n",
      "45\n",
      "54\n",
      "55\n",
      "33 45 55 "
     ]
    }
   ],
   "source": [
    "#8)Write a Python program to print odd numbers in a List?\n",
    "l=[]\n",
    "n=int(input(\"enter the no of elements>>\"))\n",
    "for i in range(0,n):\n",
    "    y=int(input())\n",
    "    l.append(y)\n",
    "\n",
    "    \n",
    "for num in l:\n",
    "      \n",
    "   \n",
    "    if num % 2 != 0:\n",
    "       print(num, end = \" \")\n",
    "    "
   ]
  },
  {
   "cell_type": "markdown",
   "metadata": {},
   "source": []
  },
  {
   "cell_type": "code",
   "execution_count": 30,
   "metadata": {},
   "outputs": [
    {
     "name": "stdout",
     "output_type": "stream",
     "text": [
      "The original list is : [5, 6, [], 3, [], [], 9]\n",
      "List after empty list removal : [5, 6, 3, 9]\n"
     ]
    }
   ],
   "source": [
    "#9)Write a Python program to Remove empty List from List?\n",
    "test_list = [5, 6, [], 3, [], [], 9]\n",
    "   \n",
    "print(\"The original list is : \" + str(test_list))\n",
    "\n",
    "res = [ele for ele in test_list if ele != []]\n",
    "  \n",
    "print (\"List after empty list removal : \" + str(res))"
   ]
  },
  {
   "cell_type": "code",
   "execution_count": 37,
   "metadata": {},
   "outputs": [
    {
     "name": "stdout",
     "output_type": "stream",
     "text": [
      "Original List: [4, 8, 2, 15, 18]\n",
      "After Cloning: [4, 8, 2, 15, 18]\n"
     ]
    }
   ],
   "source": [
    "#10)Write a Python program to Cloning or Copying a list?\n",
    "def Cloning(l1):\n",
    "    list1 = list(l1)\n",
    "    return list1\n",
    "  \n",
    "# Driver Code\n",
    "l1 = [4, 8, 2, 15, 18]\n",
    "l2 = Cloning(l1)\n",
    "print(\"Original List:\", l1)\n",
    "print(\"After Cloning:\", l2)"
   ]
  },
  {
   "cell_type": "code",
   "execution_count": 38,
   "metadata": {},
   "outputs": [
    {
     "name": "stdout",
     "output_type": "stream",
     "text": [
      "8 has occurred 5 times\n"
     ]
    }
   ],
   "source": [
    "#11)Write a Python program to Count occurrences of an element in a list?\n",
    "def countX(lst, x):\n",
    "    count = 0\n",
    "    for ele in lst:\n",
    "        if (ele == x):\n",
    "            count = count + 1\n",
    "    return count\n",
    " \n",
    "# Driver Code\n",
    "lst = [8, 6, 8, 10, 8, 20, 10, 8, 8]\n",
    "x = 8\n",
    "print('{} has occurred {} times'.format(x, countX(lst, x)))"
   ]
  },
  {
   "cell_type": "code",
   "execution_count": null,
   "metadata": {},
   "outputs": [],
   "source": []
  }
 ],
 "metadata": {
  "kernelspec": {
   "display_name": "Python 3",
   "language": "python",
   "name": "python3"
  },
  "language_info": {
   "codemirror_mode": {
    "name": "ipython",
    "version": 3
   },
   "file_extension": ".py",
   "mimetype": "text/x-python",
   "name": "python",
   "nbconvert_exporter": "python",
   "pygments_lexer": "ipython3",
   "version": "3.7.6"
  }
 },
 "nbformat": 4,
 "nbformat_minor": 4
}
