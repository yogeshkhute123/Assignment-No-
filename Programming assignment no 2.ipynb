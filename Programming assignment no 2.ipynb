{
 "cells": [
  {
   "cell_type": "code",
   "execution_count": 1,
   "metadata": {},
   "outputs": [
    {
     "name": "stdout",
     "output_type": "stream",
     "text": [
      "Enter the kilometer>>5\n",
      "5.0  kilometer is equal to 3.106855 miles\n"
     ]
    }
   ],
   "source": [
    "#1 Write a Python program to convert kilometers to miles\n",
    "\n",
    "kilometer=float(input(\"Enter the kilometer>>\"))\n",
    "conversion_factor =0.621371\n",
    "miles=conversion_factor * kilometer\n",
    "print(\"{}  kilometer is equal to {} miles\".format(kilometer,miles))"
   ]
  },
  {
   "cell_type": "code",
   "execution_count": 2,
   "metadata": {},
   "outputs": [
    {
     "name": "stdout",
     "output_type": "stream",
     "text": [
      "Enter the degree celsius40\n",
      "40.0 celsius is equal to 104.0 fahernheit\n"
     ]
    }
   ],
   "source": [
    "#2 Write a Python program to convert Celsius to Fahrenheit\n",
    "celsius=float(input(\"Enter the degree celsius\"))\n",
    "\n",
    "Fahrenheit=(celsius * 1.8) + 32\n",
    "\n",
    "print(\"{} celsius is equal to {} fahernheit\".format(celsius,Fahrenheit))"
   ]
  },
  {
   "cell_type": "code",
   "execution_count": 3,
   "metadata": {},
   "outputs": [
    {
     "name": "stdout",
     "output_type": "stream",
     "text": [
      "enter the year2021\n",
      "enter the month3\n",
      "     March 2021\n",
      "Mo Tu We Th Fr Sa Su\n",
      " 1  2  3  4  5  6  7\n",
      " 8  9 10 11 12 13 14\n",
      "15 16 17 18 19 20 21\n",
      "22 23 24 25 26 27 28\n",
      "29 30 31\n",
      "\n"
     ]
    }
   ],
   "source": [
    "#3 Write a Python program to display calendar\n",
    "import calendar\n",
    "yy=int(input(\"enter the year\"))\n",
    "mm=int(input(\"enter the month\"))\n",
    "print(calendar.month(yy,mm))"
   ]
  },
  {
   "cell_type": "code",
   "execution_count": 5,
   "metadata": {},
   "outputs": [
    {
     "name": "stdout",
     "output_type": "stream",
     "text": [
      "Enter the value of a >>1\n",
      "Enter the value of b >>3\n",
      "Enter the value of c >>4\n",
      "solution are (-1.5+1.3228756555322954j)and(-1.5-1.3228756555322954j)\n"
     ]
    }
   ],
   "source": [
    "#4 Write a Python program to solve quadratic equation\n",
    "#equation \n",
    "#a*x**2+b*x+c=0\n",
    "a=float(input(\"Enter the value of a >>\"))\n",
    "b=float(input(\"Enter the value of b >>\"))\n",
    "c=float(input(\"Enter the value of c >>\"))\n",
    "sol1=(-b+(b**2-4*a*c)**0.5)/(2*a)\n",
    "sol2=(-b-(b**2-4*a*c)**0.5)/(2*a)\n",
    "print('solution are {}and{}'.format(sol1,sol2))"
   ]
  },
  {
   "cell_type": "code",
   "execution_count": 8,
   "metadata": {},
   "outputs": [
    {
     "name": "stdout",
     "output_type": "stream",
     "text": [
      "Enter value of first variable: 1\n",
      "Enter value of second variable: 2\n",
      "a is: 2  b is: 1\n"
     ]
    }
   ],
   "source": [
    "#5.  Write a Python program to swap two variables without temp variable?\n",
    "a=int(input(\"Enter value of first variable: \"))\n",
    "b=int(input(\"Enter value of second variable: \"))\n",
    "a=a+b\n",
    "b=a-b\n",
    "a=a-b\n",
    "print(\"a is:\",a,\" b is:\",b)"
   ]
  },
  {
   "cell_type": "code",
   "execution_count": null,
   "metadata": {},
   "outputs": [],
   "source": []
  }
 ],
 "metadata": {
  "kernelspec": {
   "display_name": "Python 3",
   "language": "python",
   "name": "python3"
  },
  "language_info": {
   "codemirror_mode": {
    "name": "ipython",
    "version": 3
   },
   "file_extension": ".py",
   "mimetype": "text/x-python",
   "name": "python",
   "nbconvert_exporter": "python",
   "pygments_lexer": "ipython3",
   "version": "3.7.6"
  }
 },
 "nbformat": 4,
 "nbformat_minor": 4
}
