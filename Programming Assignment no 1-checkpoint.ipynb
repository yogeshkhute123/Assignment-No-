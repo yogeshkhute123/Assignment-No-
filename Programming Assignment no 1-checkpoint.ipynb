{
 "cells": [
  {
   "cell_type": "code",
   "execution_count": null,
   "metadata": {},
   "outputs": [],
   "source": []
  },
  {
   "cell_type": "code",
   "execution_count": 8,
   "metadata": {},
   "outputs": [
    {
     "name": "stdout",
     "output_type": "stream",
     "text": [
      "\"Hello Python\"\n"
     ]
    }
   ],
   "source": [
    "#1. Write a Python program to print \"Hello Python\"\n",
    "a='\"Hello Python\"'\n",
    "print(a)"
   ]
  },
  {
   "cell_type": "code",
   "execution_count": null,
   "metadata": {},
   "outputs": [],
   "source": []
  },
  {
   "cell_type": "code",
   "execution_count": 12,
   "metadata": {
    "collapsed": false
   },
   "outputs": [
    {
     "name": "stdout",
     "output_type": "stream",
     "text": [
      "Enter the value of a->>2\n",
      "Enter the value of b->>4\n",
      "6.0\n",
      "0.5\n"
     ]
    }
   ],
   "source": [
    "#2. Write a Python program to do arithmetical operations addition and division\n",
    "a=float(input(\"Enter the value of a->>\"))\n",
    "b=float(input(\"Enter the value of b->>\"))\n",
    "c=a+b\n",
    "d=a/b\n",
    "print(c)\n",
    "print(d)"
   ]
  },
  {
   "cell_type": "code",
   "execution_count": 10,
   "metadata": {},
   "outputs": [
    {
     "name": "stdout",
     "output_type": "stream",
     "text": [
      "Enter the first side>>2.1\n",
      "enter the second side>>2\n",
      "enter the third side>>2\n",
      "1.7873146757076654\n"
     ]
    }
   ],
   "source": [
    "#3. Write a Python program to find the area of a triangle\n",
    "# Area of triangle=sqrt(s(s-a)(s-b)(s-c))\n",
    "# s=(a+b+c)/2\n",
    "a=float(input(\"Enter the first side>>\"))\n",
    "b=float(input(\"enter the second side>>\"))\n",
    "c=float(input(\"enter the third side>>\"))\n",
    "s=(a+b+c)/2\n",
    "Area=(s*(s-a)*(s-b)*(s-c))**0.5\n",
    "print(Area)\n",
    "\n"
   ]
  },
  {
   "cell_type": "markdown",
   "metadata": {},
   "source": []
  },
  {
   "cell_type": "code",
   "execution_count": 14,
   "metadata": {},
   "outputs": [
    {
     "name": "stdout",
     "output_type": "stream",
     "text": [
      "enter the value of x >>11\n",
      "enter the value of y >>2\n",
      "value of x after swapping>> 2.0\n",
      "value of y after swapping>> 11.0\n"
     ]
    }
   ],
   "source": [
    "#4. Write a Python program to swap two variables\n",
    "x=float(input(\"enter the value of x >>\"))\n",
    "y=float(input(\"enter the value of y >>\"))\n",
    "print(\"value of x after swapping>> {}\".format(y))\n",
    "print(\"value of y after swapping>> {}\".format(x))\n"
   ]
  },
  {
   "cell_type": "code",
   "execution_count": null,
   "metadata": {},
   "outputs": [
    {
     "name": "stdout",
     "output_type": "stream",
     "text": [
      "4\n"
     ]
    }
   ],
   "source": [
    "#5. Write a Python program to generate a random number\n",
    "import random\n",
    "print(random.randint(0,9))\n"
   ]
  },
  {
   "cell_type": "code",
   "execution_count": null,
   "metadata": {},
   "outputs": [],
   "source": []
  }
 ],
 "metadata": {
  "kernelspec": {
   "display_name": "Python 3",
   "language": "python",
   "name": "python3"
  },
  "language_info": {
   "codemirror_mode": {
    "name": "ipython",
    "version": 3
   },
   "file_extension": ".py",
   "mimetype": "text/x-python",
   "name": "python",
   "nbconvert_exporter": "python",
   "pygments_lexer": "ipython3",
   "version": "3.7.6"
  }
 },
 "nbformat": 4,
 "nbformat_minor": 4
}
